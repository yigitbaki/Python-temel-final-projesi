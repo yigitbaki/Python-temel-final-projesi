{
 "cells": [
  {
   "cell_type": "code",
   "execution_count": 56,
   "id": "97c75f4a-2549-42bc-8f23-5081f9b36e7d",
   "metadata": {},
   "outputs": [],
   "source": [
    "input: [[1,'a',['cat'],2],[[[3]],'dog'],4,5]"
   ]
  },
  {
   "cell_type": "code",
   "execution_count": 65,
   "id": "40d189f7-fa7b-445e-81e7-404acf8c43f2",
   "metadata": {},
   "outputs": [
    {
     "name": "stdout",
     "output_type": "stream",
     "text": [
      "[1, 'a', 'cat', 2, 3, 'dog', 4, 5]\n"
     ]
    }
   ],
   "source": [
    "def flat_this_list(input):\n",
    "    flattened_input = []\n",
    "    for e in input:\n",
    "        if isinstance(e, list):\n",
    "            flattened_input.extend(flat_this_list(e))\n",
    "        else:\n",
    "            flattened_input.append(e)\n",
    "    return flattened_input\n",
    "\n",
    "flattened_input = flat_this_list(input)\n",
    "\n",
    "print(flattened_input)\n"
   ]
  },
  {
   "cell_type": "code",
   "execution_count": null,
   "id": "6699f143-50de-4df7-83e6-073ba5ec95bf",
   "metadata": {},
   "outputs": [],
   "source": []
  }
 ],
 "metadata": {
  "kernelspec": {
   "display_name": "Python 3 (ipykernel)",
   "language": "python",
   "name": "python3"
  },
  "language_info": {
   "codemirror_mode": {
    "name": "ipython",
    "version": 3
   },
   "file_extension": ".py",
   "mimetype": "text/x-python",
   "name": "python",
   "nbconvert_exporter": "python",
   "pygments_lexer": "ipython3",
   "version": "3.10.2"
  }
 },
 "nbformat": 4,
 "nbformat_minor": 5
}
